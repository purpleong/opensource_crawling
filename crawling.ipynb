{
 "cells": [
  {
   "cell_type": "code",
   "execution_count": 8,
   "metadata": {},
   "outputs": [
    {
     "name": "stdout",
     "output_type": "stream",
     "text": [
      "                               Price\n",
      "Category                            \n",
      "패션의류 > 여성의류 > 니트/스웨터    33042.500000\n",
      "패션의류 > 여성의류 > 레깅스       15966.666667\n",
      "패션의류 > 여성의류 > 바지        33934.545455\n",
      "패션의류 > 여성의류 > 블라우스/셔츠   29116.666667\n",
      "패션의류 > 여성의류 > 스커트       14833.333333\n",
      "패션의류 > 여성의류 > 원피스       41365.714286\n",
      "패션의류 > 여성의류 > 재킷        65544.545455\n",
      "패션의류 > 여성의류 > 점퍼       244121.600000\n",
      "패션의류 > 여성의류 > 조끼        27573.333333\n",
      "패션의류 > 여성의류 > 청바지       26450.000000\n",
      "패션의류 > 여성의류 > 카디건       68950.000000\n",
      "패션의류 > 여성의류 > 코디세트      61412.500000\n",
      "패션의류 > 여성의류 > 코트       159085.000000\n",
      "패션의류 > 여성의류 > 트레이닝복     43261.666667\n",
      "패션의류 > 여성의류 > 티셔츠       44048.888889\n",
      "패션의류 > 여성의류 > 파티복       49000.000000\n",
      "                                Name           Category   Price\n",
      "0           따뜻한 와이드 슬랙스 부츠컷 팬츠 (롱/숏)   패션의류 > 여성의류 > 바지   37000\n",
      "1           부드럽고 따뜻한 조거 트랙팬츠(4color)   패션의류 > 여성의류 > 바지   39000\n",
      "2                      [휠라공식]에이스 롱다운   패션의류 > 여성의류 > 점퍼  195300\n",
      "3                  나인츠 여성 다운 패딩 야상점퍼   패션의류 > 여성의류 > 점퍼   49000\n",
      "4         지오다노 어니언 퀄팅 경량다운 자켓 370907   패션의류 > 여성의류 > 점퍼   37450\n",
      "..                               ...                ...     ...\n",
      "145   리틀마켓 세미 와이드 일자 코듀로이팬츠 GAJA9APK   패션의류 > 여성의류 > 바지   21800\n",
      "146  폴로랄프로렌 걸즈 케이블 꽈배기 니트 가디건-ny7396  패션의류 > 여성의류 > 카디건   34900\n",
      "147    버버리 여성 ASHMOORE 애쉬무어 롱패딩 _ 블랙   패션의류 > 여성의류 > 점퍼  949000\n",
      "148                 NEW 에어웜 기모 지니 9부  패션의류 > 여성의류 > 레깅스   25000\n",
      "149         완전도톰 울 A라인 플레어 니트 스커트 치마  패션의류 > 여성의류 > 스커트   15800\n",
      "\n",
      "[150 rows x 3 columns]\n"
     ]
    },
    {
     "data": {
      "image/png": "[encoded data removed]",
      "text/plain": [
       "<Figure size 2160x288 with 1 Axes>"
      ]
     },
     "metadata": {
      "needs_background": "light"
     },
     "output_type": "display_data"
    }
   ],
   "source": [
    "import matplotlib\n",
    "import requests\n",
    "import re\n",
    "import datetime\n",
    "import pandas as pd\n",
    "from matplotlib import pyplot as plt\n",
    "import numpy as np\n",
    "from bs4 import BeautifulSoup\n",
    "import matplotlib.font_manager as fm\n",
    "from matplotlib import font_manager, rc\n",
    "import platform\n",
    "\n",
    "rc('font', family='AppleGothic')\n",
    "    \n",
    "plt.rcParams[\"figure.figsize\"] = (30,4)\n",
    "\n",
    "shoppingPage_head = \"https://search.shopping.naver.com/search/all?frm=NVSHATC&origQuery=%EC%97%AC%EC%84%B1%EC%9D%98%EB%A5%98&pagingIndex=\"\n",
    "shoppingPage_tail = \"&pagingSize=40&productSet=total&query=%EC%97%AC%EC%84%B1%EC%9D%98%EB%A5%98&sort=rel&timestamp=&viewType=list\"\n",
    "shoppingList = []\n",
    "mallNameList = []\n",
    "categoryList = []\n",
    "categoryListReal = []\n",
    "priceList = []\n",
    "reviewNumList = []\n",
    "\n",
    "# 1~30페이지 까지 링크 생성\n",
    "for i in range(30):\n",
    "    shoppingList.append(shoppingPage_head+str(i)+shoppingPage_tail)\n",
    "\n",
    "# 상품명 판매가 카테고리 리뷰갯수 GET\n",
    "for i in range(30):\n",
    "    resForName = requests.get(shoppingList[i])\n",
    "    soupForName = BeautifulSoup(resForName.content, 'html.parser')\n",
    "    for j in range(5):\n",
    "        mallNameList.append(soupForName.find_all(class_='basicList_link__1MaTN')[j].get_text())\n",
    "        priceList.append(soupForName.find_all(class_='price_num__2WUXn')[j].get_text())\n",
    "        reviewNumList.append(soupForName.find_all('em',class_='basicList_num__1yXM9')[j].get_text())\n",
    "\n",
    "    for j in range(15):\n",
    "        categoryList.append(soupForName.find_all(class_='basicList_category__wVevj')[j].get_text())\n",
    "\n",
    "cutCounter = 0\n",
    "strCategory = \"\"\n",
    "\n",
    "# 카테고리 취합부\n",
    "for i in range(len(categoryList)):\n",
    "    strCategory += categoryList[i]\n",
    "    cutCounter += 1\n",
    "    if cutCounter == 1 or cutCounter == 2:\n",
    "        strCategory += \" > \"\n",
    "    if cutCounter == 3:\n",
    "        cutCounter = 0\n",
    "        categoryListReal.append(strCategory)\n",
    "        strCategory = \"\"\n",
    "\n",
    "for i in range(len(priceList)):\n",
    "    priceList[i] = priceList[i][:-1]\n",
    "    priceList[i] = priceList[i].replace(\",\", \"\")\n",
    "    priceList[i] = int(priceList[i])\n",
    "\n",
    "\n",
    "df = pd.DataFrame({'Name':mallNameList,\n",
    "                   'Category':categoryListReal,\n",
    "                    'Price':priceList,\n",
    "                             })\n",
    "\n",
    "print(df.groupby('Category').mean())\n",
    "print(df)\n",
    "\n",
    "\n",
    "plt.plot(categoryListReal, priceList, 'go')\n",
    "plt.show()\n"
   ]
  },
  {
   "cell_type": "code",
   "execution_count": null,
   "metadata": {},
   "outputs": [],
   "source": []
  }
 ],
 "metadata": {
  "kernelspec": {
   "display_name": "Python 3",
   "language": "python",
   "name": "python3"
  },
  "language_info": {
   "codemirror_mode": {
    "name": "ipython",
    "version": 3
   },
   "file_extension": ".py",
   "mimetype": "text/x-python",
   "name": "python",
   "nbconvert_exporter": "python",
   "pygments_lexer": "ipython3",
   "version": "3.7.6"
  }
 },
 "nbformat": 4,
 "nbformat_minor": 4
}
